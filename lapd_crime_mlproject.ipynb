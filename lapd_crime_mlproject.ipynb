{
 "cells": [
  {
   "attachments": {},
   "cell_type": "markdown",
   "metadata": {},
   "source": [
    "# LAPD Crime Stats "
   ]
  },
  {
   "attachments": {},
   "cell_type": "markdown",
   "metadata": {},
   "source": [
    "## Dataset column descriptions:\n",
    "\n",
    "source: https://data.lacity.org/Public-Safety/Crime-Data-from-2020-to-Present/2nrs-mtv8\n",
    "\n",
    "<ul>\n",
    "    <li>dr_no: Division of records number</li>\n",
    "    <li>date_rptd: Date reported </li>\n",
    "    <li>date_occ: Date Incident occurred</li>\n",
    "    <li>time_occ: Time Incident occurred</li>\n",
    "    <li>area: Police station (numbered 1 - 21)</li>\n",
    "    <li>area_name: Name of area station</li>\n",
    "    <li>rpt_dist_no: Reporting district number</li>\n",
    "    <li>part_1_2: Part I or Part II level offense</li>\n",
    "    <li>crm_cd: Crime committed</li>\n",
    "    <li>Crm Cd Desc: Description of crime committed</li>\n",
    "    <li>Mocodes: Modus Operandi code activity of associated suspect</li>\n",
    "    <li>Vict Age: Age of victim</li>\n",
    "    <li>Vict Sex: Sex of victim</li>\n",
    "        <ul>\n",
    "            <li>M: Male</li>\n",
    "            <li>F: Female</li>\n",
    "            <li>X: Unknown</li>\n",
    "        </ul>\n",
    "    <li>Vict Descent: Descent codes:</li>\n",
    "        <ul>\n",
    "            <li>A: Other Asian</li>\n",
    "            <li>B: Black</li>\n",
    "            <li>C: Chinese</li>\n",
    "            <li>D: Cambodian</li>\n",
    "            <li>F: Filipino</li>\n",
    "            <li>G: Guamanian</li>\n",
    "            <li>H: Hispanic/Latin/Mexican</li>\n",
    "            <li>I: American Indian/Alaskan Native</li>\n",
    "            <li>J: Japanese</li>\n",
    "            <li>K: Korean</li>\n",
    "            <li>L: Laotian</li>\n",
    "            <li>O: Other</li>\n",
    "            <li>P: Pacific Islander</li>\n",
    "            <li>S: Samoan</li>\n",
    "            <li>U: Hawaiian</li>\n",
    "            <li>V: Vietnamese</li>\n",
    "            <li>W: White</li>\n",
    "            <li>X: Unknown</li>\n",
    "            <li>Z: Asian Indian</li>\n",
    "        </ul>\n",
    "    <li>Premis Cd: Type of structure/vehicle/location where crime took place</li>\n",
    "    <li>Premis Desc: Defines premis code provided</li>\n",
    "    <li>Weapon Used Cd: Type of weapon used in crime</li>\n",
    "    <li>Weapon Used Desc: Defines weapon code provided</li>\n",
    "    <li>Status: status of case</li>\n",
    "    <li>Status Desc: Description of status</li>\n",
    "    <li>Crm Cd 1: Indicates code for primary crime committed </li>\n",
    "    <li>Crm Cd 2: Additional code for crimes committed</li>\n",
    "    <li>Crm Cd 3: Additional code for crimes committed</li>\n",
    "    <li>Crm Cd 4: Additional code for crimes committed</li>\n",
    "    <li>Location: Street address of crime</li>\n",
    "    <li>Cross Street: Cross street of rounded address</li>\n",
    "    <li>Lat: Latitude </li>\n",
    "    <li>Lon: Longitude</li>\n",
    "</ul>"
   ]
  },
  {
   "cell_type": "code",
   "execution_count": null,
   "metadata": {},
   "outputs": [],
   "source": [
    "import pandas as pd\n",
    "import numpy as np \n",
    "\n",
    "file_path = \"/home/francisco/Downloads/Crime_Data_from_2020_to_Present.csv\"\n",
    "\n",
    "df = pd.read_csv(file_path)\n",
    "df.head()"
   ]
  },
  {
   "cell_type": "code",
   "execution_count": null,
   "metadata": {},
   "outputs": [],
   "source": [
    "df.shape"
   ]
  },
  {
   "cell_type": "code",
   "execution_count": null,
   "metadata": {},
   "outputs": [],
   "source": [
    "df.dtypes"
   ]
  },
  {
   "cell_type": "code",
   "execution_count": null,
   "metadata": {},
   "outputs": [],
   "source": [
    "df.isnull().sum()"
   ]
  },
  {
   "attachments": {},
   "cell_type": "markdown",
   "metadata": {},
   "source": [
    "## Data Cleaning \n",
    "<p>Columns are inconsistently formatted, using underscores, dashes, and literal spaces to denote blank space. Some columns are in all caps. \n",
    "Several of these columns contain redundant information by providing both the code and the code description. Crm Cd and Crm Cd 1 refer to the exact same data (With the first being of type int and the latter of type float????? My goodness). \n",
    "We can create a dictionary for these values and eliminate the description columns.</p>\n",
    "\n"
   ]
  },
  {
   "cell_type": "code",
   "execution_count": null,
   "metadata": {},
   "outputs": [],
   "source": [
    "np.sort(df['Crm Cd'].unique())"
   ]
  },
  {
   "cell_type": "code",
   "execution_count": null,
   "metadata": {},
   "outputs": [],
   "source": [
    "crime_codes = df[['Crm Cd', 'Crm Cd Desc']]\n",
    "crime_codes.head()"
   ]
  },
  {
   "cell_type": "code",
   "execution_count": null,
   "metadata": {},
   "outputs": [],
   "source": [
    "crime_codes  = crime_codes.drop_duplicates()\n",
    "crime_codes.head()"
   ]
  },
  {
   "cell_type": "code",
   "execution_count": null,
   "metadata": {},
   "outputs": [],
   "source": [
    "crime_code_list  = [code for code in crime_codes['Crm Cd']]\n",
    "description_list = [desc for desc in crime_codes['Crm Cd Desc']]\n",
    "\n",
    "crime_code_dictionary = dict(zip(crime_code_list, description_list))\n",
    "\n",
    "    "
   ]
  },
  {
   "cell_type": "code",
   "execution_count": null,
   "metadata": {},
   "outputs": [],
   "source": [
    "crime_code_dictionary"
   ]
  },
  {
   "cell_type": "code",
   "execution_count": null,
   "metadata": {},
   "outputs": [],
   "source": [
    "# We can repeat these steps for the other columns that follow the same pattern, in fact...\n",
    "\n",
    "def create_reference_dictionary(dataframe, column_1, column_2):\n",
    "    \n",
    "    temp_df = dataframe[[column_1, column_2]]\n",
    "    temp_df = temp_df.drop_duplicates()\n",
    "    temp_df = temp_df.dropna()\n",
    "    \n",
    "    column_1_list = [x for x in temp_df[column_1]]\n",
    "    column_2_list = [x for x in temp_df[column_2]]\n",
    "    \n",
    "    return dict(zip(column_1_list, column_2_list))"
   ]
  },
  {
   "cell_type": "code",
   "execution_count": null,
   "metadata": {},
   "outputs": [],
   "source": [
    "premis_reference_dictionary = create_reference_dictionary(df, 'Premis Cd', 'Premis Desc')\n",
    "\n",
    "premis_reference_dictionary"
   ]
  },
  {
   "cell_type": "code",
   "execution_count": null,
   "metadata": {},
   "outputs": [],
   "source": [
    "premis_reference_dictionary = {int(key):value for (key, value) in premis_reference_dictionary.items()}"
   ]
  },
  {
   "cell_type": "code",
   "execution_count": null,
   "metadata": {},
   "outputs": [],
   "source": [
    "premis_reference_dictionary"
   ]
  },
  {
   "cell_type": "code",
   "execution_count": null,
   "metadata": {},
   "outputs": [],
   "source": [
    "# Now for Weapons and status\n",
    "\n",
    "weapon_reference_dictionary = create_reference_dictionary(df, 'Weapon Used Cd', 'Weapon Desc')\n",
    "status_reference_dictionary = create_reference_dictionary(df, 'Status', 'Status Desc')\n",
    "\n",
    "weapon_reference_dictionary"
   ]
  },
  {
   "cell_type": "code",
   "execution_count": null,
   "metadata": {},
   "outputs": [],
   "source": [
    "np.sort(df['Weapon Used Cd'].unique())"
   ]
  },
  {
   "cell_type": "code",
   "execution_count": null,
   "metadata": {},
   "outputs": [],
   "source": [
    "# Again, no reason for the dictionary to have floats as keys \n",
    "\n",
    "weapon_reference_dictionary = {int(key):value for (key, value) in weapon_reference_dictionary.items()}"
   ]
  },
  {
   "cell_type": "code",
   "execution_count": null,
   "metadata": {},
   "outputs": [],
   "source": [
    "weapon_reference_dictionary"
   ]
  },
  {
   "cell_type": "code",
   "execution_count": null,
   "metadata": {},
   "outputs": [],
   "source": [
    "status_reference_dictionary"
   ]
  },
  {
   "attachments": {},
   "cell_type": "markdown",
   "metadata": {},
   "source": [
    "Now that we have our reference dictionaries, we no longer need the additional description columns in our dataframe. We can also drop the DR_NO since this is just a record number for the organization."
   ]
  },
  {
   "cell_type": "code",
   "execution_count": null,
   "metadata": {},
   "outputs": [],
   "source": [
    "df.columns"
   ]
  },
  {
   "cell_type": "code",
   "execution_count": null,
   "metadata": {},
   "outputs": [],
   "source": [
    "columns_to_drop = [\n",
    "    'DR_NO','Crm Cd Desc', 'Weapon Desc', \n",
    "    'Premis Desc', 'Status Desc', 'Crm Cd 1'\n",
    "]\n",
    "\n",
    "cleaner_df = df.drop(columns_to_drop, axis = 1)\n",
    "cleaner_df.shape\n"
   ]
  },
  {
   "cell_type": "code",
   "execution_count": null,
   "metadata": {},
   "outputs": [],
   "source": [
    "percent_null_values = (cleaner_df.isnull().sum()) / len(cleaner_df)\n",
    "\n",
    "with pd.option_context('display.float_format','{:.2%}'.format):\n",
    "    display(percent_null_values)"
   ]
  },
  {
   "attachments": {},
   "cell_type": "markdown",
   "metadata": {},
   "source": [
    "There's something wrong with the Date OCC and Time OCC columns..."
   ]
  },
  {
   "cell_type": "code",
   "execution_count": null,
   "metadata": {},
   "outputs": [],
   "source": [
    "df[['DATE OCC', 'TIME OCC']].head(15)\n"
   ]
  },
  {
   "cell_type": "code",
   "execution_count": null,
   "metadata": {},
   "outputs": [],
   "source": [
    "df['DATE OCC'][0][:10]"
   ]
  },
  {
   "cell_type": "code",
   "execution_count": null,
   "metadata": {},
   "outputs": [],
   "source": [
    "new_dates = [date[:10] for date in cleaner_df['DATE OCC'].values ]"
   ]
  },
  {
   "cell_type": "code",
   "execution_count": null,
   "metadata": {},
   "outputs": [],
   "source": [
    "cleaner_df['date_occurred'] = new_dates"
   ]
  },
  {
   "cell_type": "code",
   "execution_count": null,
   "metadata": {},
   "outputs": [],
   "source": [
    "cleaner_df[['DATE OCC','date_occurred']].head(10)"
   ]
  },
  {
   "attachments": {},
   "cell_type": "markdown",
   "metadata": {},
   "source": [
    "That's much better.\n",
    "We also have 6 columns dedicated to the location, which is a bit much considering we can derive most of these data by just the Lat and Long coordinates.\n",
    "We'll drop the original date occ column, along with the 4 columns for area that are NOT lat and long. "
   ]
  },
  {
   "cell_type": "code",
   "execution_count": null,
   "metadata": {},
   "outputs": [],
   "source": [
    "columns_to_drop = [\n",
    "    'DATE OCC', 'AREA', 'AREA NAME',\n",
    "    'LOCATION', 'Cross Street'\n",
    "]\n",
    "\n",
    "more_cleaner_df = cleaner_df.drop(columns_to_drop, axis = 1)\n",
    "more_cleaner_df.head(10)"
   ]
  },
  {
   "attachments": {},
   "cell_type": "markdown",
   "metadata": {},
   "source": [
    "Much better! The values in Premis Cd, Weapon Used Cd, and the Crm Cd 2/3/4 columns still need to be updated to ints. We can also fill any of the null values with 0, since all of the coded values have three digits. "
   ]
  },
  {
   "cell_type": "code",
   "execution_count": null,
   "metadata": {},
   "outputs": [],
   "source": [
    "percent_null_values = (more_cleaner_df.isnull().sum()) / len(more_cleaner_df)\n",
    "\n",
    "with pd.option_context('display.float_format','{:.2%}'.format):\n",
    "    display(percent_null_values)"
   ]
  },
  {
   "cell_type": "code",
   "execution_count": null,
   "metadata": {},
   "outputs": [],
   "source": [
    "more_cleaner_df['Vict Sex'].value_counts()"
   ]
  },
  {
   "cell_type": "code",
   "execution_count": null,
   "metadata": {},
   "outputs": [],
   "source": [
    "# H??? That wasn't in the documentation \n",
    "\n",
    "mysterious_biology = more_cleaner_df[more_cleaner_df['Vict Sex'] == 'H']\n",
    "mysterious_biology.head(10)"
   ]
  },
  {
   "cell_type": "code",
   "execution_count": null,
   "metadata": {},
   "outputs": [],
   "source": [
    "for crime in mysterious_biology['Crm Cd']:\n",
    "    print(f'{crime}: {crime_code_dictionary[crime]}')"
   ]
  },
  {
   "attachments": {},
   "cell_type": "markdown",
   "metadata": {},
   "source": [
    "Considering an H value for victim sex is not listed in any documentation, and how unlikely it would be for an intersex victim to be identified by an H, we'll change these values to unknown (X)"
   ]
  },
  {
   "cell_type": "code",
   "execution_count": null,
   "metadata": {},
   "outputs": [],
   "source": [
    "# Taking care of all of the remaining null values \n",
    "\n",
    "# Both Vict Sex and Vict Descent have the same number of null values, while not stated explicitly, the documentation suggests these are crimes against property/things\n",
    "more_cleaner_df['Vict Sex'] = more_cleaner_df['Vict Sex'].str.replace('H','X')\n",
    "more_cleaner_df['Vict Sex'] = more_cleaner_df['Vict Sex'].str.replace('-','X')\n",
    "more_cleaner_df['Vict Sex'] = more_cleaner_df['Vict Sex'].fillna('N')\n",
    "more_cleaner_df['Vict Descent'] = more_cleaner_df['Vict Descent'].fillna('N')\n",
    "\n",
    "more_cleaner_df['Mocodes'] = more_cleaner_df['Mocodes'].fillna(0)\n",
    "more_cleaner_df['Weapon Used Cd'] = more_cleaner_df['Weapon Used Cd'].fillna(0)\n",
    "more_cleaner_df['Crm Cd 2'] = more_cleaner_df['Crm Cd 2'].fillna(0)\n",
    "more_cleaner_df['Crm Cd 3'] = more_cleaner_df['Crm Cd 3'].fillna(0)\n",
    "more_cleaner_df['Crm Cd 4'] = more_cleaner_df['Crm Cd 4'].fillna(0)"
   ]
  },
  {
   "cell_type": "code",
   "execution_count": null,
   "metadata": {},
   "outputs": [],
   "source": [
    "percent_null_values = (more_cleaner_df.isnull().sum()) / len(more_cleaner_df)\n",
    "\n",
    "with pd.option_context('display.float_format','{:.2%}'.format):\n",
    "    display(percent_null_values)"
   ]
  },
  {
   "cell_type": "code",
   "execution_count": null,
   "metadata": {},
   "outputs": [],
   "source": [
    "# Convert the floats to ints \n",
    "\n",
    "more_cleaner_df['Premis Cd'] = more_cleaner_df['Premis Cd'].convert_dtypes()\n"
   ]
  },
  {
   "cell_type": "code",
   "execution_count": null,
   "metadata": {},
   "outputs": [],
   "source": [
    "more_cleaner_df['Premis Cd'].unique()"
   ]
  },
  {
   "cell_type": "code",
   "execution_count": null,
   "metadata": {},
   "outputs": [],
   "source": [
    "# To avoid unnecessary repeats\n",
    "\n",
    "def convert_and_fill_nulls(series):\n",
    "    series = series.convert_dtypes()\n",
    "    series = series.fillna(0)\n",
    "    return series"
   ]
  },
  {
   "cell_type": "code",
   "execution_count": null,
   "metadata": {},
   "outputs": [],
   "source": [
    "more_cleaner_df['Premis Cd'] = more_cleaner_df['Premis Cd'].fillna(0)\n",
    "\n",
    "more_cleaner_df['Weapon Used Cd'] = convert_and_fill_nulls(more_cleaner_df['Weapon Used Cd'])\n",
    "\n",
    "more_cleaner_df['Crm Cd 2'] = convert_and_fill_nulls(more_cleaner_df['Crm Cd 2'])\n",
    "\n",
    "more_cleaner_df['Crm Cd 3'] = convert_and_fill_nulls(more_cleaner_df['Crm Cd 3'])\n",
    "\n",
    "more_cleaner_df['Crm Cd 4'] = convert_and_fill_nulls(more_cleaner_df['Crm Cd 4'])"
   ]
  },
  {
   "cell_type": "code",
   "execution_count": null,
   "metadata": {},
   "outputs": [],
   "source": [
    "more_cleaner_df.dtypes"
   ]
  },
  {
   "attachments": {},
   "cell_type": "markdown",
   "metadata": {},
   "source": [
    "### We're almost ready for analysis! \n",
    "<ul>A few things left to clean up:\n",
    "    <li>Change the date occured colum to a date format</li>\n",
    "    <li>Reorder and rename the columns for consistency</li>\n",
    "\n",
    "</ul>"
   ]
  },
  {
   "cell_type": "code",
   "execution_count": null,
   "metadata": {},
   "outputs": [],
   "source": [
    "more_cleaner_df['date_occurred'] = pd.to_datetime(more_cleaner_df['date_occurred'])\n",
    "more_cleaner_df['date_reported'] = pd.to_datetime(more_cleaner_df['Date Rptd'])"
   ]
  },
  {
   "cell_type": "code",
   "execution_count": null,
   "metadata": {},
   "outputs": [],
   "source": [
    "rename_dictionary = {\n",
    "    'TIME OCC':'time_occurred',\n",
    "    'Part 1-2':'part_offense',\n",
    "    'Rpt Dist No':'reporting_district',\n",
    "    'Crm Cd':'crime_code',\n",
    "    'Mocodes':'mo_codes',\n",
    "    'Vict Age':'victim_age',\n",
    "    'Vict Sex':'victim_sex',\n",
    "    'Vict Descent':'victim_descent',\n",
    "    'Premis Cd':'premises_code',\n",
    "    'Weapon Used Cd':'weapon_used_code',\n",
    "    'Status':'status_code',\n",
    "    'Crm Cd 2':'crime_code_2',\n",
    "    'Crm Cd 3':'crime_code_3',\n",
    "    'Crm Cd 4':'crime_code_4',\n",
    "    'LAT':'latitude',\n",
    "    'LON':'longitude'\n",
    "}"
   ]
  },
  {
   "cell_type": "code",
   "execution_count": null,
   "metadata": {},
   "outputs": [],
   "source": [
    "more_cleaner_df = more_cleaner_df.rename(columns = rename_dictionary)\n",
    "\n",
    "more_cleaner_df.columns"
   ]
  },
  {
   "cell_type": "code",
   "execution_count": null,
   "metadata": {},
   "outputs": [],
   "source": [
    "more_cleaner_df = more_cleaner_df.drop('Date Rptd', axis = 1)"
   ]
  },
  {
   "cell_type": "code",
   "execution_count": null,
   "metadata": {},
   "outputs": [],
   "source": [
    "clean_df = more_cleaner_df[['date_occurred','time_occurred', 'part_offense', 'crime_code', 'crime_code_2', \n",
    "                            'crime_code_3', 'crime_code_4', 'victim_age', 'victim_sex', 'victim_descent', \n",
    "                            'weapon_used_code', 'premises_code', 'status_code', 'reporting_district', 'date_reported',\n",
    "                            'mo_codes', 'latitude', 'longitude']]\n",
    "\n",
    "clean_df.head()"
   ]
  },
  {
   "cell_type": "code",
   "execution_count": null,
   "metadata": {},
   "outputs": [],
   "source": [
    "import pdfquery\n",
    "\n",
    "pdf = pdfquery.PDFQuery('/home/francisco/Downloads/MO_CODES_Numerical_20180627.pdf')\n",
    "pdf.load()\n",
    "\n",
    "pdf.tree.write('mo_codes.xml',pretty_print=True)\n",
    "pdf"
   ]
  },
  {
   "cell_type": "code",
   "execution_count": null,
   "metadata": {},
   "outputs": [],
   "source": [
    "mo_codes = pdf.pq('LTTextLineHorizontal').text()\n",
    "\n",
    "print(mo_codes)"
   ]
  },
  {
   "cell_type": "code",
   "execution_count": null,
   "metadata": {},
   "outputs": [],
   "source": [
    "# vs what we started with \n",
    "df.head()"
   ]
  },
  {
   "attachments": {},
   "cell_type": "markdown",
   "metadata": {},
   "source": [
    "We'll also pickle the reference dictionaries for future use "
   ]
  },
  {
   "cell_type": "code",
   "execution_count": null,
   "metadata": {},
   "outputs": [],
   "source": [
    "import pickle \n",
    "\n",
    "\n",
    "with open('crime_code_reference.pickle', 'wb') as file:\n",
    "    pickle.dump(crime_code_dictionary, file, protocol=pickle.HIGHEST_PROTOCOL)\n",
    "\n",
    "\n",
    "with open('weapon_reference_dictionary.pkl', 'wb') as file:\n",
    "    pickle.dump(weapon_reference_dictionary, file, protocol=pickle.HIGHEST_PROTOCOL)\n",
    "    \n",
    "    \n",
    "with open('status_reference_dictionary.pkl', 'wb') as file:\n",
    "    pickle.dump(status_reference_dictionary, file, protocol=pickle.HIGHEST_PROTOCOL)\n",
    "    \n",
    "\n",
    "with open('premis_reference_dictionary.pkl', 'wb') as file:\n",
    "    pickle.dump(premis_reference_dictionary, file, protocol=pickle.HIGHEST_PROTOCOL)\n",
    "    "
   ]
  },
  {
   "cell_type": "code",
   "execution_count": null,
   "metadata": {},
   "outputs": [],
   "source": [
    "clean_df.to_pickle('./clean_crime_data.pkl')"
   ]
  },
  {
   "attachments": {},
   "cell_type": "markdown",
   "metadata": {},
   "source": [
    "## Building the ML Model"
   ]
  },
  {
   "cell_type": "code",
   "execution_count": 1,
   "metadata": {},
   "outputs": [
    {
     "data": {
      "text/html": [
       "<div>\n",
       "<style scoped>\n",
       "    .dataframe tbody tr th:only-of-type {\n",
       "        vertical-align: middle;\n",
       "    }\n",
       "\n",
       "    .dataframe tbody tr th {\n",
       "        vertical-align: top;\n",
       "    }\n",
       "\n",
       "    .dataframe thead th {\n",
       "        text-align: right;\n",
       "    }\n",
       "</style>\n",
       "<table border=\"1\" class=\"dataframe\">\n",
       "  <thead>\n",
       "    <tr style=\"text-align: right;\">\n",
       "      <th></th>\n",
       "      <th>date_occurred</th>\n",
       "      <th>time_occurred</th>\n",
       "      <th>part_offense</th>\n",
       "      <th>crime_code</th>\n",
       "      <th>crime_code_2</th>\n",
       "      <th>crime_code_3</th>\n",
       "      <th>crime_code_4</th>\n",
       "      <th>victim_age</th>\n",
       "      <th>victim_sex</th>\n",
       "      <th>victim_descent</th>\n",
       "      <th>weapon_used_code</th>\n",
       "      <th>premises_code</th>\n",
       "      <th>status_code</th>\n",
       "      <th>reporting_district</th>\n",
       "      <th>date_reported</th>\n",
       "      <th>mo_codes</th>\n",
       "      <th>latitude</th>\n",
       "      <th>longitude</th>\n",
       "    </tr>\n",
       "  </thead>\n",
       "  <tbody>\n",
       "    <tr>\n",
       "      <th>0</th>\n",
       "      <td>2020-01-08</td>\n",
       "      <td>2230</td>\n",
       "      <td>2</td>\n",
       "      <td>624</td>\n",
       "      <td>0</td>\n",
       "      <td>0</td>\n",
       "      <td>0</td>\n",
       "      <td>36</td>\n",
       "      <td>F</td>\n",
       "      <td>B</td>\n",
       "      <td>400</td>\n",
       "      <td>501</td>\n",
       "      <td>AO</td>\n",
       "      <td>377</td>\n",
       "      <td>2020-01-08</td>\n",
       "      <td>0444 0913</td>\n",
       "      <td>34.0141</td>\n",
       "      <td>-118.2978</td>\n",
       "    </tr>\n",
       "    <tr>\n",
       "      <th>1</th>\n",
       "      <td>2020-01-01</td>\n",
       "      <td>330</td>\n",
       "      <td>2</td>\n",
       "      <td>624</td>\n",
       "      <td>0</td>\n",
       "      <td>0</td>\n",
       "      <td>0</td>\n",
       "      <td>25</td>\n",
       "      <td>M</td>\n",
       "      <td>H</td>\n",
       "      <td>500</td>\n",
       "      <td>102</td>\n",
       "      <td>IC</td>\n",
       "      <td>163</td>\n",
       "      <td>2020-01-02</td>\n",
       "      <td>0416 1822 1414</td>\n",
       "      <td>34.0459</td>\n",
       "      <td>-118.2545</td>\n",
       "    </tr>\n",
       "    <tr>\n",
       "      <th>3</th>\n",
       "      <td>2020-01-01</td>\n",
       "      <td>1730</td>\n",
       "      <td>2</td>\n",
       "      <td>745</td>\n",
       "      <td>998</td>\n",
       "      <td>0</td>\n",
       "      <td>0</td>\n",
       "      <td>76</td>\n",
       "      <td>F</td>\n",
       "      <td>W</td>\n",
       "      <td>0</td>\n",
       "      <td>502</td>\n",
       "      <td>IC</td>\n",
       "      <td>1543</td>\n",
       "      <td>2020-01-01</td>\n",
       "      <td>0329 1402</td>\n",
       "      <td>34.1685</td>\n",
       "      <td>-118.4019</td>\n",
       "    </tr>\n",
       "    <tr>\n",
       "      <th>5</th>\n",
       "      <td>2020-01-01</td>\n",
       "      <td>30</td>\n",
       "      <td>1</td>\n",
       "      <td>121</td>\n",
       "      <td>998</td>\n",
       "      <td>0</td>\n",
       "      <td>0</td>\n",
       "      <td>25</td>\n",
       "      <td>F</td>\n",
       "      <td>H</td>\n",
       "      <td>500</td>\n",
       "      <td>735</td>\n",
       "      <td>IC</td>\n",
       "      <td>163</td>\n",
       "      <td>2020-01-02</td>\n",
       "      <td>0413 1822 1262 1415</td>\n",
       "      <td>34.0452</td>\n",
       "      <td>-118.2534</td>\n",
       "    </tr>\n",
       "    <tr>\n",
       "      <th>6</th>\n",
       "      <td>2020-01-02</td>\n",
       "      <td>1315</td>\n",
       "      <td>1</td>\n",
       "      <td>442</td>\n",
       "      <td>998</td>\n",
       "      <td>0</td>\n",
       "      <td>0</td>\n",
       "      <td>23</td>\n",
       "      <td>M</td>\n",
       "      <td>H</td>\n",
       "      <td>0</td>\n",
       "      <td>404</td>\n",
       "      <td>IC</td>\n",
       "      <td>161</td>\n",
       "      <td>2020-01-02</td>\n",
       "      <td>1402 2004 0344 0387</td>\n",
       "      <td>34.0483</td>\n",
       "      <td>-118.2631</td>\n",
       "    </tr>\n",
       "  </tbody>\n",
       "</table>\n",
       "</div>"
      ],
      "text/plain": [
       "  date_occurred  time_occurred  part_offense  crime_code  crime_code_2  \\\n",
       "0    2020-01-08           2230             2         624             0   \n",
       "1    2020-01-01            330             2         624             0   \n",
       "3    2020-01-01           1730             2         745           998   \n",
       "5    2020-01-01             30             1         121           998   \n",
       "6    2020-01-02           1315             1         442           998   \n",
       "\n",
       "   crime_code_3  crime_code_4  victim_age victim_sex victim_descent  \\\n",
       "0             0             0          36          F              B   \n",
       "1             0             0          25          M              H   \n",
       "3             0             0          76          F              W   \n",
       "5             0             0          25          F              H   \n",
       "6             0             0          23          M              H   \n",
       "\n",
       "   weapon_used_code  premises_code status_code  reporting_district  \\\n",
       "0               400            501          AO                 377   \n",
       "1               500            102          IC                 163   \n",
       "3                 0            502          IC                1543   \n",
       "5               500            735          IC                 163   \n",
       "6                 0            404          IC                 161   \n",
       "\n",
       "  date_reported             mo_codes  latitude  longitude  \n",
       "0    2020-01-08            0444 0913   34.0141  -118.2978  \n",
       "1    2020-01-02       0416 1822 1414   34.0459  -118.2545  \n",
       "3    2020-01-01            0329 1402   34.1685  -118.4019  \n",
       "5    2020-01-02  0413 1822 1262 1415   34.0452  -118.2534  \n",
       "6    2020-01-02  1402 2004 0344 0387   34.0483  -118.2631  "
      ]
     },
     "execution_count": 1,
     "metadata": {},
     "output_type": "execute_result"
    }
   ],
   "source": [
    "# Starting with the original cleaned data set \n",
    "\n",
    "import pandas as pd\n",
    "import numpy as np\n",
    "\n",
    "file_path = './ml_crime_data.pkl' \n",
    "\n",
    "df = pd.read_pickle(file_path)\n",
    "df.head()"
   ]
  },
  {
   "cell_type": "code",
   "execution_count": 2,
   "metadata": {},
   "outputs": [],
   "source": [
    "df['crime_code'] = [code // 100 for code in df['crime_code']]\n",
    "df['crime_code_2'] = [code // 100 for code in df['crime_code_2']]\n",
    "df['crime_code_3'] = [code // 100 for code in df['crime_code_3']]\n",
    "df['crime_code_4'] = [code // 100 for code in df['crime_code_4']]\n",
    "df['weapon_used_code'] = [code // 100 for code in df['weapon_used_code']]\n",
    "df['premises_code'] = [code // 100 for code in df['premises_code']]"
   ]
  },
  {
   "cell_type": "code",
   "execution_count": 3,
   "metadata": {},
   "outputs": [],
   "source": [
    "reporting_lag = df['date_reported'] - df['date_occurred']"
   ]
  },
  {
   "cell_type": "code",
   "execution_count": 4,
   "metadata": {},
   "outputs": [],
   "source": [
    "df['reporting_lag'] = reporting_lag"
   ]
  },
  {
   "cell_type": "code",
   "execution_count": 5,
   "metadata": {},
   "outputs": [],
   "source": [
    "from sklearn.preprocessing import MinMaxScaler\n",
    "\n",
    "scaler = MinMaxScaler()\n",
    "\n",
    "df['victim_age'] = scaler.fit_transform(np.array(df['victim_age']).reshape(-1,1))\n",
    "df['time_occurred'] = scaler.fit_transform(np.array(df['time_occurred']).reshape(-1,1))\n",
    "df['latitude'] = scaler.fit_transform(np.array(df['latitude']).reshape(-1,1))   \n",
    "df['longitude'] = scaler.fit_transform(np.array(df['longitude']).reshape(-1,1))\n",
    "df['reporting_lag'] = scaler.fit_transform(np.array(df['reporting_lag']).reshape(-1,1))\n",
    "\n",
    "df = df.drop(['date_occurred','date_reported'],axis=1)"
   ]
  },
  {
   "cell_type": "code",
   "execution_count": 6,
   "metadata": {},
   "outputs": [
    {
     "data": {
      "text/html": [
       "<div>\n",
       "<style scoped>\n",
       "    .dataframe tbody tr th:only-of-type {\n",
       "        vertical-align: middle;\n",
       "    }\n",
       "\n",
       "    .dataframe tbody tr th {\n",
       "        vertical-align: top;\n",
       "    }\n",
       "\n",
       "    .dataframe thead th {\n",
       "        text-align: right;\n",
       "    }\n",
       "</style>\n",
       "<table border=\"1\" class=\"dataframe\">\n",
       "  <thead>\n",
       "    <tr style=\"text-align: right;\">\n",
       "      <th></th>\n",
       "      <th>time_occurred</th>\n",
       "      <th>part_offense</th>\n",
       "      <th>crime_code</th>\n",
       "      <th>crime_code_2</th>\n",
       "      <th>crime_code_3</th>\n",
       "      <th>crime_code_4</th>\n",
       "      <th>victim_age</th>\n",
       "      <th>victim_sex</th>\n",
       "      <th>victim_descent</th>\n",
       "      <th>weapon_used_code</th>\n",
       "      <th>premises_code</th>\n",
       "      <th>status_code</th>\n",
       "      <th>reporting_district</th>\n",
       "      <th>mo_codes</th>\n",
       "      <th>latitude</th>\n",
       "      <th>longitude</th>\n",
       "      <th>reporting_lag</th>\n",
       "    </tr>\n",
       "  </thead>\n",
       "  <tbody>\n",
       "    <tr>\n",
       "      <th>0</th>\n",
       "      <td>0.945293</td>\n",
       "      <td>2</td>\n",
       "      <td>6</td>\n",
       "      <td>0</td>\n",
       "      <td>0</td>\n",
       "      <td>0</td>\n",
       "      <td>0.376238</td>\n",
       "      <td>F</td>\n",
       "      <td>B</td>\n",
       "      <td>4</td>\n",
       "      <td>5</td>\n",
       "      <td>AO</td>\n",
       "      <td>377</td>\n",
       "      <td>0444 0913</td>\n",
       "      <td>0.990674</td>\n",
       "      <td>0.003116</td>\n",
       "      <td>0.000000</td>\n",
       "    </tr>\n",
       "    <tr>\n",
       "      <th>1</th>\n",
       "      <td>0.139525</td>\n",
       "      <td>2</td>\n",
       "      <td>6</td>\n",
       "      <td>0</td>\n",
       "      <td>0</td>\n",
       "      <td>0</td>\n",
       "      <td>0.267327</td>\n",
       "      <td>M</td>\n",
       "      <td>H</td>\n",
       "      <td>5</td>\n",
       "      <td>1</td>\n",
       "      <td>IC</td>\n",
       "      <td>163</td>\n",
       "      <td>0416 1822 1414</td>\n",
       "      <td>0.991600</td>\n",
       "      <td>0.003481</td>\n",
       "      <td>0.000705</td>\n",
       "    </tr>\n",
       "    <tr>\n",
       "      <th>3</th>\n",
       "      <td>0.733249</td>\n",
       "      <td>2</td>\n",
       "      <td>7</td>\n",
       "      <td>9</td>\n",
       "      <td>0</td>\n",
       "      <td>0</td>\n",
       "      <td>0.772277</td>\n",
       "      <td>F</td>\n",
       "      <td>W</td>\n",
       "      <td>0</td>\n",
       "      <td>5</td>\n",
       "      <td>IC</td>\n",
       "      <td>1543</td>\n",
       "      <td>0329 1402</td>\n",
       "      <td>0.995171</td>\n",
       "      <td>0.002239</td>\n",
       "      <td>0.000000</td>\n",
       "    </tr>\n",
       "    <tr>\n",
       "      <th>5</th>\n",
       "      <td>0.012299</td>\n",
       "      <td>1</td>\n",
       "      <td>1</td>\n",
       "      <td>9</td>\n",
       "      <td>0</td>\n",
       "      <td>0</td>\n",
       "      <td>0.267327</td>\n",
       "      <td>F</td>\n",
       "      <td>H</td>\n",
       "      <td>5</td>\n",
       "      <td>7</td>\n",
       "      <td>IC</td>\n",
       "      <td>163</td>\n",
       "      <td>0413 1822 1262 1415</td>\n",
       "      <td>0.991580</td>\n",
       "      <td>0.003490</td>\n",
       "      <td>0.000705</td>\n",
       "    </tr>\n",
       "    <tr>\n",
       "      <th>6</th>\n",
       "      <td>0.557252</td>\n",
       "      <td>1</td>\n",
       "      <td>4</td>\n",
       "      <td>9</td>\n",
       "      <td>0</td>\n",
       "      <td>0</td>\n",
       "      <td>0.247525</td>\n",
       "      <td>M</td>\n",
       "      <td>H</td>\n",
       "      <td>0</td>\n",
       "      <td>4</td>\n",
       "      <td>IC</td>\n",
       "      <td>161</td>\n",
       "      <td>1402 2004 0344 0387</td>\n",
       "      <td>0.991670</td>\n",
       "      <td>0.003409</td>\n",
       "      <td>0.000000</td>\n",
       "    </tr>\n",
       "  </tbody>\n",
       "</table>\n",
       "</div>"
      ],
      "text/plain": [
       "   time_occurred  part_offense  crime_code  crime_code_2  crime_code_3  \\\n",
       "0       0.945293             2           6             0             0   \n",
       "1       0.139525             2           6             0             0   \n",
       "3       0.733249             2           7             9             0   \n",
       "5       0.012299             1           1             9             0   \n",
       "6       0.557252             1           4             9             0   \n",
       "\n",
       "   crime_code_4  victim_age victim_sex victim_descent  weapon_used_code  \\\n",
       "0             0    0.376238          F              B                 4   \n",
       "1             0    0.267327          M              H                 5   \n",
       "3             0    0.772277          F              W                 0   \n",
       "5             0    0.267327          F              H                 5   \n",
       "6             0    0.247525          M              H                 0   \n",
       "\n",
       "   premises_code status_code  reporting_district             mo_codes  \\\n",
       "0              5          AO                 377            0444 0913   \n",
       "1              1          IC                 163       0416 1822 1414   \n",
       "3              5          IC                1543            0329 1402   \n",
       "5              7          IC                 163  0413 1822 1262 1415   \n",
       "6              4          IC                 161  1402 2004 0344 0387   \n",
       "\n",
       "   latitude  longitude  reporting_lag  \n",
       "0  0.990674   0.003116       0.000000  \n",
       "1  0.991600   0.003481       0.000705  \n",
       "3  0.995171   0.002239       0.000000  \n",
       "5  0.991580   0.003490       0.000705  \n",
       "6  0.991670   0.003409       0.000000  "
      ]
     },
     "execution_count": 6,
     "metadata": {},
     "output_type": "execute_result"
    }
   ],
   "source": [
    "df.head()"
   ]
  },
  {
   "cell_type": "code",
   "execution_count": 7,
   "metadata": {},
   "outputs": [
    {
     "name": "stdout",
     "output_type": "stream",
     "text": [
      "10\n"
     ]
    }
   ],
   "source": [
    "mcs = (df['mo_codes'])\n",
    "\n",
    "str_mcs = [str(x) for x in mcs]\n",
    "\n",
    "new_list = [list(x.split(\" \")) for x in str_mcs]\n",
    "\n",
    "lens = [len(x) for x in new_list]\n",
    "print(max(lens))"
   ]
  },
  {
   "cell_type": "code",
   "execution_count": 8,
   "metadata": {},
   "outputs": [
    {
     "data": {
      "text/plain": [
       "(661006, 10)"
      ]
     },
     "execution_count": 8,
     "metadata": {},
     "output_type": "execute_result"
    }
   ],
   "source": [
    "for x in new_list:\n",
    "    while len(x) < 10:\n",
    "        x.append(0)\n",
    "\n",
    "mo_code_arr = [np.array(x) for x in new_list]\n",
    "mo_code_arr = np.asarray(mo_code_arr)\n",
    "mo_code_arr.shape"
   ]
  },
  {
   "cell_type": "code",
   "execution_count": 9,
   "metadata": {},
   "outputs": [],
   "source": [
    "mo_code_df = pd.DataFrame(mo_code_arr, columns=['mo_code_1','mo_code_2','mo_code_3','mo_code_4','mo_code_5','mo_code_6','mo_code_7','mo_code_8','mo_code_9','mo_code_10'],dtype='float')\n",
    "df = df.join(mo_code_df)\n",
    "df = df.drop(['mo_codes','status_code','reporting_district'],axis=1)"
   ]
  },
  {
   "cell_type": "code",
   "execution_count": 10,
   "metadata": {},
   "outputs": [],
   "source": [
    "df['victim_sex'] = df['victim_sex'].astype('str')\n",
    "df['victim_descent'] = df['victim_descent'].astype('str')"
   ]
  },
  {
   "cell_type": "code",
   "execution_count": 11,
   "metadata": {},
   "outputs": [],
   "source": [
    "df['victim_sex'] = df['victim_sex'].apply(lambda x: x.replace(x,'0') if x=='M' else x.replace(x,'1')).astype('float')\n",
    "\n",
    "df['victim_descent'] = df['victim_descent'].apply(lambda x: x.replace(x,'0') if x=='W' else x.replace(x, '1')).astype('float')"
   ]
  },
  {
   "cell_type": "code",
   "execution_count": 12,
   "metadata": {},
   "outputs": [],
   "source": [
    "df = df.fillna(0)"
   ]
  },
  {
   "cell_type": "code",
   "execution_count": 14,
   "metadata": {},
   "outputs": [],
   "source": [
    "from sklearn.model_selection import train_test_split\n",
    "\n",
    "X = np.asarray(df.drop('victim_sex',axis=1))\n",
    "y = np.asarray(df['victim_sex'])\n",
    "\n",
    "X_train, X_test, y_train, y_test = train_test_split(X,y,test_size=0.2)"
   ]
  },
  {
   "cell_type": "code",
   "execution_count": null,
   "metadata": {},
   "outputs": [],
   "source": [
    "from sklearn.svm import SVC\n",
    "\n",
    "clf = SVC().fit(X_train,y_train)\n",
    "clf.score(X_test,y_test)"
   ]
  },
  {
   "cell_type": "code",
   "execution_count": null,
   "metadata": {},
   "outputs": [],
   "source": [
    "from sklearn.model_selection import GridSearchCV\n",
    "\n",
    "\n",
    "params = {'C':np.arange(1,10),\n",
    "          'gamma':np.arange(1,10)}\n",
    "\n",
    "grid = GridSearchCV(clf,params)\n",
    "grid.fit(X_train,y_train)\n",
    "\n",
    "print(grid.best_params_)\n",
    "print(grid.best_score_)"
   ]
  }
 ],
 "metadata": {
  "kernelspec": {
   "display_name": "tf_metal",
   "language": "python",
   "name": "python3"
  },
  "language_info": {
   "codemirror_mode": {
    "name": "ipython",
    "version": 3
   },
   "file_extension": ".py",
   "mimetype": "text/x-python",
   "name": "python",
   "nbconvert_exporter": "python",
   "pygments_lexer": "ipython3",
   "version": "3.11.3"
  },
  "orig_nbformat": 4
 },
 "nbformat": 4,
 "nbformat_minor": 2
}
